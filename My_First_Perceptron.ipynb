{
  "nbformat": 4,
  "nbformat_minor": 0,
  "metadata": {
    "colab": {
      "name": "My_First_Perceptron.ipynb",
      "provenance": []
    },
    "kernelspec": {
      "name": "python3",
      "display_name": "Python 3"
    },
    "language_info": {
      "name": "python"
    }
  },
  "cells": [
    {
      "cell_type": "markdown",
      "metadata": {
        "id": "HTt2XQdjsucc"
      },
      "source": [
        "# **퍼셉트론**"
      ]
    },
    {
      "cell_type": "code",
      "metadata": {
        "id": "YQFBHvgjsskI"
      },
      "source": [
        "# AND게이트 구현하기\n",
        "# 입력 x1과 x2가 모두 참일 때 1을 출력한다.\n",
        "def AND(x1, x2):\n",
        "  w1, w2, theta = 1, 1, 1.9\n",
        "  value = w1*x1 + w2*x2\n",
        "  if value <= theta:\n",
        "    return 0\n",
        "  elif value >theta:\n",
        "    return 1\n"
      ],
      "execution_count": 8,
      "outputs": []
    },
    {
      "cell_type": "code",
      "metadata": {
        "colab": {
          "base_uri": "https://localhost:8080/"
        },
        "id": "MH849aTntdtV",
        "outputId": "af3c22b9-551e-457a-db3a-776341c80b43"
      },
      "source": [
        "print(AND(1,1))\n",
        "print(AND(0,0))\n",
        "print(AND(0,1))\n",
        "print(AND(1,0))\n",
        "#1,0,0,0"
      ],
      "execution_count": 9,
      "outputs": [
        {
          "output_type": "stream",
          "text": [
            "1\n",
            "0\n",
            "0\n",
            "0\n"
          ],
          "name": "stdout"
        }
      ]
    },
    {
      "cell_type": "code",
      "metadata": {
        "id": "xUaxUzQxucBF"
      },
      "source": [
        "def NAND(x1, x2):\n",
        "  w1, w2, theta = 1, 1, 1.9\n",
        "  value = w1*x1 + w2*x2\n",
        "  if value <= theta:\n",
        "    return 1\n",
        "  elif value >theta:\n",
        "    return 0"
      ],
      "execution_count": 10,
      "outputs": []
    },
    {
      "cell_type": "code",
      "metadata": {
        "colab": {
          "base_uri": "https://localhost:8080/"
        },
        "id": "xvcwBvqmuo4V",
        "outputId": "f5884e5d-4e60-48db-99d1-3375b0b227b6"
      },
      "source": [
        "print(NAND(1,1))\n",
        "print(NAND(0,0))\n",
        "print(NAND(0,1))\n",
        "print(NAND(1,0))\n",
        "#0,1,1,1"
      ],
      "execution_count": 11,
      "outputs": [
        {
          "output_type": "stream",
          "text": [
            "0\n",
            "1\n",
            "1\n",
            "1\n"
          ],
          "name": "stdout"
        }
      ]
    },
    {
      "cell_type": "code",
      "metadata": {
        "id": "4Y_oGfYMuElu"
      },
      "source": [
        "def OR(x1, x2):\n",
        "  w1, w2, theta = 1, 1, 1\n",
        "  value = w1*x1 + w2*x2\n",
        "  if value >= theta:\n",
        "    return 1\n",
        "  elif value < theta:\n",
        "    return 0"
      ],
      "execution_count": 15,
      "outputs": []
    },
    {
      "cell_type": "code",
      "metadata": {
        "colab": {
          "base_uri": "https://localhost:8080/"
        },
        "id": "u-y7Tepbuvq-",
        "outputId": "febc0dec-2a6f-47ce-fdac-b39e885d7b5f"
      },
      "source": [
        "print(OR(1,1))\n",
        "print(OR(0,0))\n",
        "print(OR(0,1))\n",
        "print(OR(1,0))\n",
        "#1,0,1,1"
      ],
      "execution_count": 16,
      "outputs": [
        {
          "output_type": "stream",
          "text": [
            "1\n",
            "0\n",
            "1\n",
            "1\n"
          ],
          "name": "stdout"
        }
      ]
    }
  ]
}